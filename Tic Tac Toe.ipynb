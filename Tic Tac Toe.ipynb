{
 "cells": [
  {
   "cell_type": "code",
   "execution_count": 1,
   "metadata": {},
   "outputs": [
    {
     "data": {
      "text/plain": [
       "\"It's nice to welcome you in a tic-tac-toe game\""
      ]
     },
     "execution_count": 1,
     "metadata": {},
     "output_type": "execute_result"
    }
   ],
   "source": [
    "def welcome():\n",
    "    welcome_text = \"It's nice to welcome you in a tic-tac-toe game\"\n",
    "    return welcome_text\n",
    "\n",
    "welcome()"
   ]
  },
  {
   "cell_type": "code",
   "execution_count": 63,
   "metadata": {},
   "outputs": [
    {
     "name": "stdout",
     "output_type": "stream",
     "text": [
      "Choose name or nickname for the Player 1: a\n",
      "Choose name or nickname for the Player 2: s\n",
      "Player 1: a \n",
      "Player 2: s\n"
     ]
    }
   ],
   "source": [
    "def players_names():\n",
    "    \"\"\"\n",
    "    DOCSTRING: Take players name as an input\n",
    "    INPUT: player one and player two name as a string\n",
    "    OUTPUT: welcoming message\n",
    "    \"\"\"\n",
    "    player_one_name = str(input(\"Choose name or nickname for the Player 1: \"))\n",
    "    player_two_name = str(input(\"Choose name or nickname for the Player 2: \"))\n",
    "    print(f\"Player 1: {player_one_name} \\nPlayer 2: {player_two_name}\")\n",
    "\n",
    "players_names()"
   ]
  },
  {
   "cell_type": "code",
   "execution_count": 67,
   "metadata": {},
   "outputs": [
    {
     "name": "stdout",
     "output_type": "stream",
     "text": [
      "Now it's time to choose sides. You have 3 option: \n",
      "Option 1: Player 1 = X, Player 2 = O\n",
      "Option 2: Player 1 = O, Player 2 = X \n",
      "Option 3: Random choice\n",
      "3\n"
     ]
    },
    {
     "data": {
      "text/plain": [
       "'Player 1 = X, Player 2 = O'"
      ]
     },
     "execution_count": 67,
     "metadata": {},
     "output_type": "execute_result"
    }
   ],
   "source": [
    "import random\n",
    "\n",
    "def choose_x_or_o():\n",
    "    print(\"Now it's time to choose sides. You have 3 option: \\nOption 1: Player 1 = X, Player 2 = O\\nOption 2: Player 1 = O, Player 2 = X \\nOption 3: Random choice\")\n",
    "    rules = int(input())\n",
    "    if rules == 1:\n",
    "        return \"Player 1 = X, Player 2 = O\"\n",
    "    if rules == 2:\n",
    "        return \"Player 1 = O, Player 2 = X\"\n",
    "    else:\n",
    "        options = [\"Player 1 = X, Player 2 = O\", \"Player 1 = O, Player 2 = X\"]\n",
    "        return random.choice(options)\n",
    "    \n",
    "choose_x_or_o()"
   ]
  },
  {
   "cell_type": "code",
   "execution_count": 4,
   "metadata": {},
   "outputs": [
    {
     "ename": "SyntaxError",
     "evalue": "invalid syntax (<ipython-input-4-e51825f852fd>, line 3)",
     "output_type": "error",
     "traceback": [
      "\u001b[0;36m  File \u001b[0;32m\"<ipython-input-4-e51825f852fd>\"\u001b[0;36m, line \u001b[0;32m3\u001b[0m\n\u001b[0;31m    print(board[1] + \"|\" + board[2] + \"|\" board[3])\u001b[0m\n\u001b[0m                                              ^\u001b[0m\n\u001b[0;31mSyntaxError\u001b[0m\u001b[0;31m:\u001b[0m invalid syntax\n"
     ]
    }
   ],
   "source": [
    "#def display_board(board):\n",
    "    \n",
    " #   print(board[1] + \"|\" + board[2] + \"|\" board[3])\n",
    "\n"
   ]
  },
  {
   "cell_type": "code",
   "execution_count": 12,
   "metadata": {},
   "outputs": [
    {
     "data": {
      "text/plain": [
       "[['X', 'X', 'X'], ['X', 'X', 'X'], ['X', 'X', 'X']]"
      ]
     },
     "execution_count": 12,
     "metadata": {},
     "output_type": "execute_result"
    }
   ],
   "source": [
    "test_board = [['X','X','X'],['X','X','X'],['X','X','X']]\n",
    "test_board"
   ]
  },
  {
   "cell_type": "code",
   "execution_count": null,
   "metadata": {},
   "outputs": [],
   "source": []
  }
 ],
 "metadata": {
  "kernelspec": {
   "display_name": "Python 3",
   "language": "python",
   "name": "python3"
  },
  "language_info": {
   "codemirror_mode": {
    "name": "ipython",
    "version": 3
   },
   "file_extension": ".py",
   "mimetype": "text/x-python",
   "name": "python",
   "nbconvert_exporter": "python",
   "pygments_lexer": "ipython3",
   "version": "3.6.5"
  }
 },
 "nbformat": 4,
 "nbformat_minor": 2
}
